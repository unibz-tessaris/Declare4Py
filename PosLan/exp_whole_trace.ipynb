{
 "cells": [
  {
   "cell_type": "code",
   "execution_count": null,
   "id": "53366132-8de2-49b5-8464-6d65922b7d2a",
   "metadata": {},
   "outputs": [],
   "source": [
    "from Declare4Py.ProcessMiningTasks.LogGenerator.PositionalBased.PositionalBasedLogGenerator import PositionalBasedLogGenerator\n",
    "from Declare4Py.ProcessMiningTasks.LogGenerator.PositionalBased.PositionalBasedModel import PositionalBasedModel\n",
    "import pdb\n",
    "\n",
    "polarity = ['pos', 'neg']\n",
    "df = []\n",
    "for pol in polarity:\n",
    "    print(pol)\n",
    "    model_path = f\"experimental_model_{pol}.decl\"\n",
    "    Model: PositionalBasedModel = PositionalBasedModel().parse_from_file(model_path)\n",
    "    noise = 10\n",
    "    generator: PositionalBasedLogGenerator = PositionalBasedLogGenerator(1000, 20, 20, Model, True)\n",
    "    generator.run(generate_negatives_traces=False, positive_noise_percentage=noise, negative_noise_percentage=noise)\n",
    "    result_dataframe: pd.DataFrame = generator.get_results_as_dataframe().copy()\n",
    "    if pol == 'neg':\n",
    "        result_dataframe['case:label'] = 'Negative'\n",
    "        result_dataframe['case:concept:name'] = 'neg_' + result_dataframe['case:concept:name']\n",
    "    df.append(result_dataframe)\n",
    "\n",
    "result_dataframe = pd.concat(df).to_csv(f\"experimental_model_pos_neg_{noise}.csv\")"
   ]
  },
  {
   "cell_type": "code",
   "execution_count": null,
   "id": "f6f3e7ee-cdcf-4932-8d68-800fbabbe91f",
   "metadata": {},
   "outputs": [],
   "source": [
    "\"\"\" Alternative way of generating logs\n",
    "from Declare4Py.ProcessMiningTasks.LogGenerator.PositionalBased.PositionalBasedLogGenerator import PositionalBasedLogGenerator\n",
    "from Declare4Py.ProcessMiningTasks.LogGenerator.PositionalBased.PositionalBasedModel import PositionalBasedModel\n",
    "\n",
    "import pdb\n",
    "\n",
    "model_path = f\"experimental_model_pos.decl\"\n",
    "Model: PositionalBasedModel = PositionalBasedModel().parse_from_file(model_path)\n",
    "noise = 0\n",
    "generator: PositionalBasedLogGenerator = PositionalBasedLogGenerator(500, 20, 20, Model, True)\n",
    "generator.run(generate_negatives_traces=True, positive_noise_percentage=noise, negative_noise_percentage=noise)\n",
    "result_dataframe: pd.DataFrame = generator.get_results_as_dataframe().copy()\n",
    "\n",
    "generator.to_csv(f\"experimental_model_{noise}.csv\")\n",
    "\"\"\""
   ]
  },
  {
   "cell_type": "code",
   "execution_count": null,
   "id": "be4b8c1b0bc9009e",
   "metadata": {
    "ExecuteTime": {
     "end_time": "2024-05-25T11:03:41.502318Z",
     "start_time": "2024-05-25T11:03:41.455447Z"
    }
   },
   "outputs": [],
   "source": [
    "import pandas as pd\n",
    "import matplotlib.patches as mpatches\n",
    "from sklearn.svm import SVC\n",
    "import matplotlib.pyplot as plt\n",
    "import matplotlib.patches as mpatches\n",
    "from sklearn.tree import DecisionTreeClassifier, plot_tree\n",
    "from Declare4Py.Encodings.IndexBased import IndexBased\n",
    "from sklearn.model_selection import train_test_split, GridSearchCV, KFold\n",
    "from sklearn.metrics import classification_report, f1_score\n",
    "from Declare4Py.Encodings.Aggregate import Aggregate\n",
    "from sklearn.neural_network import MLPClassifier\n",
    "from sklearn.linear_model import Perceptron\n",
    "from sklearn.ensemble import RandomForestClassifier\n",
    "from sklearn.ensemble import GradientBoostingClassifier\n",
    "from sklearn.linear_model import LogisticRegression\n",
    "from sklearn.metrics import precision_recall_fscore_support\n",
    "\n",
    "RNG = 0\n",
    "\n",
    "noise_list = [0, 5, 10, 15]\n",
    "\n",
    "results = []\n",
    "\n",
    "encoders = {IndexBased(case_id_col=\"case:concept:name\", cat_cols = ['concept:name'], num_cols=['valore', 'age'], create_dummies=True): \"ComplexIdx\",\n",
    "            Aggregate(case_id_col=\"case:concept:name\", cat_cols=['concept:name'], boolean=True): \"Boolean\",\n",
    "            Aggregate(case_id_col=\"case:concept:name\", cat_cols=['concept:name'], boolean=False): \"Frequency\",\n",
    "            Aggregate(case_id_col=\"case:concept:name\", cat_cols=['concept:name'], num_cols=['valore', 'age'], boolean=False, aggregation_functions=['min', 'mean', 'max']): \"Aggregate\",\n",
    "            IndexBased(case_id_col=\"case:concept:name\", cat_cols=['concept:name'], create_dummies=True): \"SimpleIdx\"}\n",
    "\n",
    "classifiers = {LogisticRegression(random_state=0): \"Log. Regr.\",\n",
    "               Perceptron(tol=1e-3, random_state=0): \"Perceptron\",\n",
    "               SVC(kernel='rbf'): \"SVM\",\n",
    "               DecisionTreeClassifier(max_depth=5, random_state = RNG): \"DT\", \n",
    "               GradientBoostingClassifier(max_depth=5, random_state=RNG): \"XGBoost\",\n",
    "               RandomForestClassifier(max_depth=5, random_state=RNG): \"RF\",\n",
    "               MLPClassifier(random_state=1, activation='tanh', hidden_layer_sizes=(100, 100), max_iter=1000): \"DNN\"}\n",
    "\n",
    "for encoder, enc_name in encoders.items():\n",
    "    for clf, clf_name in classifiers.items():\n",
    "        results_tmp = [enc_name, clf_name]\n",
    "        for noise in noise_list:\n",
    "            print(enc_name, clf_name, noise)\n",
    "            result_dataframe = pd.read_csv(f\"experimental_model_pos_neg_{noise}.csv\")\n",
    "            mean_valore = result_dataframe['valore'].mean()\n",
    "            result_dataframe['valore'].fillna(mean_valore, inplace=True)\n",
    "            #result_dataframe\n",
    "            enc_df = encoder.fit_transform(result_dataframe)\n",
    "            target_df = result_dataframe[[\"case:concept:name\", \"case:label\"]].drop_duplicates()\n",
    "            enc_df = pd.merge(enc_df, target_df, on=\"case:concept:name\").drop([\"case:concept:name\"], axis=1)\n",
    "\n",
    "            X = enc_df.iloc[:,:-1]\n",
    "            y = enc_df.iloc[:,-1]\n",
    "            X_new = X\n",
    "\n",
    "            x_train, x_test, y_train, y_test = train_test_split(X_new, y, test_size=0.2, random_state = RNG)\n",
    "            clf.fit(x_train, y_train)\n",
    "            y_pred = clf.predict(x_test) \n",
    "\n",
    "            prec, rec, f1, _ = precision_recall_fscore_support(y_test, y_pred, pos_label=\"Positive\", average=\"binary\")\n",
    "            results_tmp = results_tmp + [prec, rec, f1]\n",
    "        results.append(results_tmp)"
   ]
  },
  {
   "cell_type": "code",
   "execution_count": null,
   "id": "ad35d9b5-621f-4a2c-8b77-67f07a491ea1",
   "metadata": {},
   "outputs": [],
   "source": [
    "from datetime import datetime\n",
    "enc_df.to_csv(f\"train{datetime.now()}.csv\")"
   ]
  },
  {
   "cell_type": "code",
   "execution_count": null,
   "id": "2b219f0d-53ad-4fa2-bf73-ce8d5a1321a8",
   "metadata": {},
   "outputs": [],
   "source": [
    "import csv\n",
    "\n",
    "with open(\"results_whole.csv\", 'w') as csvfile:\n",
    "    writer = csv.writer(csvfile)\n",
    "    writer.writerows(results)\n",
    "\n",
    "print(results)"
   ]
  },
  {
   "cell_type": "code",
   "execution_count": null,
   "id": "8b0d93ebc7bc0363",
   "metadata": {
    "ExecuteTime": {
     "end_time": "2024-05-25T11:03:42.936953Z",
     "start_time": "2024-05-25T11:03:41.517936Z"
    }
   },
   "outputs": [],
   "source": [
    "figsize = (10, 10)\n",
    "\n",
    "clf = classifiers[3]\n",
    "plt.figure(figsize=figsize)\n",
    "plot_tree(clf, feature_names=enc_df.columns[:-1], class_names=[\"Negatives\", \"Positives\"], filled=True, fontsize=6)\n",
    "plt.title(\"Decision Tree\", fontsize=22.5, ha='center')\n",
    "\n",
    "plt.savefig(\"dt.pdf\")\n",
    "plt.show()"
   ]
  }
 ],
 "metadata": {
  "kernelspec": {
   "display_name": "Python 3 (ipykernel)",
   "language": "python",
   "name": "python3"
  },
  "language_info": {
   "codemirror_mode": {
    "name": "ipython",
    "version": 3
   },
   "file_extension": ".py",
   "mimetype": "text/x-python",
   "name": "python",
   "nbconvert_exporter": "python",
   "pygments_lexer": "ipython3",
   "version": "3.11.4"
  }
 },
 "nbformat": 4,
 "nbformat_minor": 5
}
