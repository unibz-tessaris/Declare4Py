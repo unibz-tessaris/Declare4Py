{
 "cells": [
  {
   "cell_type": "markdown",
   "metadata": {},
   "source": [
    "# CAiSE 2025 experiments: original code\n",
    "\n",
    "Uses the original code to generate positive logs and reports average Levenshtein and Hamming distance of the generated traces."
   ]
  },
  {
   "cell_type": "code",
   "execution_count": null,
   "metadata": {},
   "outputs": [],
   "source": [
    "from Declare4Py.ProcessMiningTasks.LogGenerator.PositionalBased.PositionalBasedLogGenerator import PositionalBasedLogGenerator\n",
    "from Declare4Py.ProcessMiningTasks.LogGenerator.PositionalBased.PositionalBasedModel import PositionalBasedModel\n"
   ]
  },
  {
   "cell_type": "code",
   "execution_count": null,
   "metadata": {},
   "outputs": [],
   "source": [
    "experiment_id = 'caise2025-orig'\n",
    "\n",
    "num_traces = 1000\n",
    "max_ev = 20\n",
    "min_ev = 20\n",
    "noise = 10\n",
    "\n",
    "model_name = \"experimental_model_ivan 2\"\n",
    "\n",
    "model_path = f\"{model_name}.decl\"\n",
    "export_path = f\"output/{experiment_id}_{model_name}_noise_{noise}.csv\""
   ]
  },
  {
   "cell_type": "code",
   "execution_count": null,
   "metadata": {},
   "outputs": [],
   "source": [
    "Model: PositionalBasedModel = PositionalBasedModel().parse_from_file(model_path)\n",
    "generator: PositionalBasedLogGenerator = PositionalBasedLogGenerator(num_traces, min_ev, max_ev, Model, False)"
   ]
  },
  {
   "cell_type": "markdown",
   "metadata": {},
   "source": [
    "Generate only the positive traces"
   ]
  },
  {
   "cell_type": "code",
   "execution_count": null,
   "metadata": {},
   "outputs": [],
   "source": [
    "%%time\n",
    "\n",
    "generator.run(generate_negatives_traces=False, positive_noise_percentage=noise, negative_noise_percentage=noise)"
   ]
  },
  {
   "cell_type": "code",
   "execution_count": null,
   "metadata": {},
   "outputs": [],
   "source": [
    "generator.to_csv(export_path)"
   ]
  },
  {
   "cell_type": "code",
   "execution_count": null,
   "metadata": {},
   "outputs": [],
   "source": [
    "generator.get_results_as_dataframe().sample(10)"
   ]
  },
  {
   "cell_type": "code",
   "execution_count": null,
   "metadata": {},
   "outputs": [],
   "source": [
    "import itertools\n",
    "import statistics\n",
    "from typing import Hashable, Iterable, Sequence\n",
    "\n",
    "import Levenshtein\n",
    "\n",
    "def results_to_log(generator: PositionalBasedLogGenerator) -> Iterable[Sequence[Hashable]]:\n",
    "    for case, frame in generator.get_results_as_dataframe().groupby('case:concept:name'):\n",
    "        yield frame.sort_values(by='concept:name:order', key=lambda k: k.str.removeprefix('event_').astype('int64'))[\"concept:name\"].values.tolist()\n",
    "\n",
    "def average_distances(traces: Iterable[Sequence[Hashable]], aggr=statistics.mean) -> tuple[float, float]:\n",
    "    t1, t2 = itertools.tee(itertools.combinations(traces,2))\n",
    "    return (aggr(Levenshtein.distance(s1,s2) for s1,s2 in t1)), aggr(Levenshtein.hamming(s1,s2) for s1,s2 in t2)\n"
   ]
  },
  {
   "cell_type": "code",
   "execution_count": null,
   "metadata": {},
   "outputs": [],
   "source": [
    "results_lst = list(results_to_log(generator))\n",
    "print(f'Number of traces: {len(results_lst)}')\n",
    "print(f'Average length of traces: {statistics.mean(len(t) for t in results_lst)}')"
   ]
  },
  {
   "cell_type": "markdown",
   "metadata": {},
   "source": [
    "The average distances are based on the activity names only, payload are ignored (see the code for `results_to_log` function above)"
   ]
  },
  {
   "cell_type": "code",
   "execution_count": null,
   "metadata": {},
   "outputs": [],
   "source": [
    "average_distances(results_lst)"
   ]
  }
 ],
 "metadata": {
  "kernelspec": {
   "display_name": "default",
   "language": "python",
   "name": "python3"
  },
  "language_info": {
   "codemirror_mode": {
    "name": "ipython",
    "version": 3
   },
   "file_extension": ".py",
   "mimetype": "text/x-python",
   "name": "python",
   "nbconvert_exporter": "python",
   "pygments_lexer": "ipython3",
   "version": "3.13.0"
  }
 },
 "nbformat": 4,
 "nbformat_minor": 2
}
