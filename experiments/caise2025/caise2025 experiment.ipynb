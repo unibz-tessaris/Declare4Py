{
 "cells": [
  {
   "cell_type": "markdown",
   "metadata": {},
   "source": [
    "# CAiSE 2025 experiments"
   ]
  },
  {
   "cell_type": "code",
   "execution_count": null,
   "metadata": {},
   "outputs": [],
   "source": [
    "from exptools import *"
   ]
  },
  {
   "cell_type": "markdown",
   "metadata": {},
   "source": [
    "Parameters for the experiments"
   ]
  },
  {
   "cell_type": "code",
   "execution_count": null,
   "metadata": {},
   "outputs": [],
   "source": [
    "from datetime import datetime, timezone\n",
    "from pathlib import Path\n",
    "\n",
    "\n",
    "MAX_TRACES = [100, 500, 1000, 2000, 4000, 8000]\n",
    "MAX_EVENTS = [20, 30, 40, 50, 60, 70]\n",
    "NOISE = [0]\n",
    "THRESHOLDS = [.3, .6]\n",
    "\n",
    "SEED = b'\\x81\\x97u+'\n",
    "\n",
    "MODEL_NAME = 'experimental_model_ivan 2'\n",
    "MODEL_PATH = Path(f\"{MODEL_NAME}.decl\")\n",
    "\n",
    "EXPORT_PREFIX = 'caise2025_'\n",
    "EXPORT_PATH = Path('output', EXPORT_PREFIX + datetime.now(timezone.utc).isoformat(timespec='minutes'))\n",
    "EXPORT_PATH.mkdir(parents=True, exist_ok=False)\n",
    "\n",
    "print(f'Results written on directory <{EXPORT_PATH.as_posix()}>')"
   ]
  },
  {
   "cell_type": "code",
   "execution_count": null,
   "metadata": {},
   "outputs": [],
   "source": [
    "from Declare4Py.ProcessMiningTasks.LogGenerator.PositionalBased.PositionalBasedLogGeneratorNG import PBLogGeneratorBaseline, PBLogGeneratorRandom, PBLogGeneratorHamming, PBLogGeneratorLevenshtein, PBLogGeneratorOrig\n",
    "from Declare4Py.ProcessMiningTasks.LogGenerator.PositionalBased.PositionalBasedModel import PositionalBasedModel\n"
   ]
  },
  {
   "cell_type": "markdown",
   "metadata": {},
   "source": [
    "Define the set of experiments to run"
   ]
  },
  {
   "cell_type": "code",
   "execution_count": null,
   "metadata": {},
   "outputs": [],
   "source": [
    "MODEL = PositionalBasedModel().parse_from_file(MODEL_PATH.as_posix())\n",
    "EXPERIMENTS: dict[str, Experiment] = {}\n",
    "\n",
    "for model_name, model, traces, events, noise in itertools.product([MODEL_NAME], [MODEL], MAX_TRACES, MAX_EVENTS, NOISE):\n",
    "    params = {\n",
    "        'model': model_name,\n",
    "        'traces': traces,\n",
    "        'events': events,\n",
    "        'noise': noise\n",
    "    }\n",
    "    exp_args = {\n",
    "        'init': {\n",
    "            'total_traces': traces,\n",
    "            'min_event': events,\n",
    "            'max_event': events,\n",
    "            'process_model': model,\n",
    "            'log': None,\n",
    "            'verbose': False,\n",
    "            'seed': SEED},\n",
    "        'run': {\n",
    "            'equal_rule_split': True,\n",
    "            'high_variability': False,\n",
    "            'generate_negatives_traces': False,\n",
    "            'positive_noise_percentage': noise,\n",
    "            'negative_noise_percentage': noise,\n",
    "            'append_results': False}}\n",
    "    exp_id = f'_{model_name}_{traces:04}_{events:03}_{noise:02}'\n",
    "\n",
    "    EXPERIMENTS['old' + exp_id] = Experiment(\n",
    "        id_='old' + exp_id,\n",
    "        class_=PBLogGeneratorOrig,\n",
    "        args=exp_args,\n",
    "        model=model,\n",
    "        parameters=params,\n",
    "        description='Rewritten original code'\n",
    "    )\n",
    "    EXPERIMENTS['baseline' + exp_id] = Experiment(\n",
    "        id_='baseline' + exp_id,\n",
    "        class_=PBLogGeneratorBaseline,\n",
    "        args=exp_args,\n",
    "        model=model,\n",
    "        parameters=params,\n",
    "        description='No attempt to introduce variability in the generated logs'\n",
    "    )\n",
    "    EXPERIMENTS['random' + exp_id] = Experiment(\n",
    "        id_='random' + exp_id,\n",
    "        class_=PBLogGeneratorRandom,\n",
    "        args=exp_args,\n",
    "        model=model,\n",
    "        parameters=params,\n",
    "        description='Uses clingo randomisation to generate different models'\n",
    "    )\n",
    "\n",
    "for model_name, model, traces, events, noise, threshold, randomise in itertools.product([MODEL_NAME], [MODEL], MAX_TRACES, MAX_EVENTS, NOISE, THRESHOLDS, [False, True]):\n",
    "    params = {\n",
    "        'model': model_name,\n",
    "        'traces': traces,\n",
    "        'events': events,\n",
    "        'noise': noise,\n",
    "        'threshold': threshold,\n",
    "        'randomise': randomise\n",
    "    }\n",
    "    exp_args = {\n",
    "        'init': {\n",
    "            'total_traces': traces,\n",
    "            'min_event': events,\n",
    "            'max_event': events,\n",
    "            'process_model': model,\n",
    "            'log': None,\n",
    "            'verbose': False,\n",
    "            'seed': SEED,\n",
    "            'threshold': threshold,\n",
    "            'randomise': randomise},\n",
    "        'run': {\n",
    "            'equal_rule_split': True,\n",
    "            'high_variability': False,\n",
    "            'generate_negatives_traces': False,\n",
    "            'positive_noise_percentage': noise,\n",
    "            'negative_noise_percentage': noise,\n",
    "            'append_results': False}}\n",
    "    exp_id = f'_{model_name}_{traces:04}_{events:03}_{noise:02}_{int(threshold * 100):02}_{randomise}'\n",
    "\n",
    "    EXPERIMENTS['hamming' + exp_id] = Experiment(\n",
    "        id_='hamming' + exp_id,\n",
    "        class_=PBLogGeneratorHamming,\n",
    "        args=exp_args,\n",
    "        model=model,\n",
    "        parameters=params,\n",
    "        description='Hamming distance threshold implemented in ASP'\n",
    "    )\n",
    "    EXPERIMENTS['levenshtein' + exp_id] = Experiment(\n",
    "        id_='levenshtein' + exp_id,\n",
    "        class_=PBLogGeneratorLevenshtein,\n",
    "        args=exp_args,\n",
    "        model=model,\n",
    "        parameters=params,\n",
    "        description='Levenshtein distance threshold implemented in ASP'\n",
    "    )\n",
    "\n",
    "\n",
    "with EXPORT_PATH.joinpath('experiments.json').open('w') as fp:\n",
    "    experiments_dump(EXPERIMENTS, fp, indent=2)\n",
    "\n",
    "EXPERIMENTS"
   ]
  },
  {
   "cell_type": "code",
   "execution_count": null,
   "metadata": {},
   "outputs": [],
   "source": [
    "GENERATORS = {eid: e.new_generator() for eid, e in EXPERIMENTS.items()}"
   ]
  },
  {
   "cell_type": "code",
   "execution_count": null,
   "metadata": {},
   "outputs": [],
   "source": [
    "from IPython import get_ipython\n",
    "ipython = get_ipython()\n",
    "\n",
    "for eid, gen, exp in ((k, GENERATORS[k], EXPERIMENTS[k]) for k in EXPERIMENTS.keys()):\n",
    "    header = '-' * 5 + f' {eid} [{type(gen).__name__}] '\n",
    "    print(header + '-' * (72 - len(header)))\n",
    "    with log_to_file(EXPORT_PATH.joinpath(f'{eid}.log'), level=logging.DEBUG):\n",
    "        %time exp.run_generator(gen)\n",
    "    gen.get_results_as_dataframe().to_csv(EXPORT_PATH.joinpath(f'{eid}.csv'))\n"
   ]
  },
  {
   "cell_type": "markdown",
   "metadata": {},
   "source": [
    "## Evaluate the variability"
   ]
  },
  {
   "cell_type": "code",
   "execution_count": null,
   "metadata": {},
   "outputs": [],
   "source": [
    "results = [exp.get_results(GENERATORS[eid], normalise=True, columns=['resource']) for eid, exp in EXPERIMENTS.items()]\n",
    "\n",
    "with EXPORT_PATH.joinpath('results.json').open('w') as fp:\n",
    "    json.dump(results, fp)\n",
    "\n",
    "df = pd.json_normalize(results)\n",
    "\n",
    "df.to_csv(EXPORT_PATH.joinpath('results.csv'))\n",
    "\n",
    "df\n"
   ]
  }
 ],
 "metadata": {
  "kernelspec": {
   "display_name": "default",
   "language": "python",
   "name": "python3"
  },
  "language_info": {
   "codemirror_mode": {
    "name": "ipython",
    "version": 3
   },
   "file_extension": ".py",
   "mimetype": "text/x-python",
   "name": "python",
   "nbconvert_exporter": "python",
   "pygments_lexer": "ipython3",
   "version": "3.13.0"
  }
 },
 "nbformat": 4,
 "nbformat_minor": 2
}
