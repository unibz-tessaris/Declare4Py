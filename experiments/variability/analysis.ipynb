{
 "cells": [
  {
   "cell_type": "markdown",
   "metadata": {
    "editable": true,
    "slideshow": {
     "slide_type": ""
    },
    "tags": []
   },
   "source": [
    "# Analysis of Experiments"
   ]
  },
  {
   "cell_type": "code",
   "execution_count": null,
   "metadata": {
    "editable": true,
    "slideshow": {
     "slide_type": ""
    },
    "tags": []
   },
   "outputs": [],
   "source": [
    "from datetime import datetime, timezone\n",
    "from pathlib import Path\n",
    "import subprocess\n",
    "from typing import Sequence\n",
    "\n",
    "import numpy as np\n",
    "import pandas as pd"
   ]
  },
  {
   "cell_type": "code",
   "execution_count": null,
   "metadata": {
    "tags": [
     "parameters"
    ]
   },
   "outputs": [],
   "source": [
    "DEBUG = False\n",
    "\n",
    "EXPORT_PREFIX = 'analysis'\n",
    "EXPORT_TAG = None\n",
    "\n",
    "OUTPUT_DIR = 'output'\n"
   ]
  },
  {
   "cell_type": "code",
   "execution_count": null,
   "metadata": {},
   "outputs": [],
   "source": [
    "EXPORT_TAG = EXPORT_TAG if EXPORT_TAG is not None else datetime.now(tz=timezone.utc).strftime(r'%Y-%m-%dT%H%M%SZ')\n",
    "\n",
    "EXPORT_PATH = Path(OUTPUT_DIR)\n",
    "EXPORT_PATH.mkdir(parents=True, exist_ok=True)\n",
    "\n",
    "print(f'Results written on directory <{EXPORT_PATH.as_posix()}>')\n",
    "try:\n",
    "    print('Git describe: ' + subprocess.check_output(['git', 'describe', '--dirty'], text=True).strip())\n",
    "except subprocess.CalledProcessError as e:\n",
    "    print(f'Git info not available: {e.stderr}')\n",
    "\n",
    "DATA_DIRS: list[Path] = [p for p in EXPORT_PATH.glob('*') if p.is_dir()]\n",
    "print('Reading data from:')\n",
    "for p in DATA_DIRS:\n",
    "    print(f'  - {p}')\n",
    "print(f'Writing output in: {EXPORT_PATH.as_posix()}')"
   ]
  },
  {
   "cell_type": "markdown",
   "metadata": {},
   "source": [
    "## Read data\n",
    "\n",
    "Look for data in each directory in `DATA_DIRS`"
   ]
  },
  {
   "cell_type": "code",
   "execution_count": null,
   "metadata": {},
   "outputs": [],
   "source": [
    "import json\n",
    "\n",
    "\n",
    "RAW_DATA: list[dict] = []\n",
    "\n",
    "for data_dir in DATA_DIRS:\n",
    "    data = []\n",
    "    for rfile in data_dir.glob('*_results.json'):\n",
    "        with rfile.open() as fp:\n",
    "            result = json.load(fp)\n",
    "            result['src'] = data_dir.as_posix()\n",
    "            data.append(result)\n",
    "    if len(data) < 1 and data_dir.joinpath('results.json').exists():\n",
    "        with data_dir.joinpath('results.json').open() as fp:\n",
    "            results = json.load(fp)\n",
    "            for result in results:\n",
    "                result['src'] = data_dir.as_posix()\n",
    "                data.append(result)\n",
    "\n",
    "    RAW_DATA.extend(data)\n",
    "\n",
    "assert len(RAW_DATA) > 0, 'No data found in any of the directories'\n",
    "\n",
    "RAW_DATA_df = pd.json_normalize(RAW_DATA)\n",
    "\n",
    "RAW_DATA_df.sample(5)"
   ]
  },
  {
   "cell_type": "code",
   "execution_count": null,
   "metadata": {},
   "outputs": [],
   "source": [
    "RAW_DATA_df.columns"
   ]
  },
  {
   "cell_type": "markdown",
   "metadata": {},
   "source": [
    "### Summarise data"
   ]
  },
  {
   "cell_type": "code",
   "execution_count": null,
   "metadata": {},
   "outputs": [],
   "source": [
    "SUMMARY = RAW_DATA_df[['src', 'id', 'generator']].assign(\n",
    "    threshold=RAW_DATA_df.get('params.threshold'),\n",
    "    randomised=((RAW_DATA_df['generator'] == 'PBLogGeneratorRandom') | RAW_DATA_df.get('params.randomise', default=False)),\n",
    "    batches=RAW_DATA_df.get('params.batches'),\n",
    "    model=RAW_DATA_df.get('params.model'),\n",
    "    case_size=RAW_DATA_df.get('params.events'),\n",
    "    log_size=RAW_DATA_df.get('params.traces'),\n",
    "    generated=RAW_DATA_df.get('cases'),\n",
    "    coverage=RAW_DATA_df['cases']/RAW_DATA_df['params.traces'],\n",
    "    time=RAW_DATA_df.get('stats.times.total'),\n",
    "    timeout=RAW_DATA_df.get('stats.timedout'),\n",
    "    hamming=RAW_DATA_df.get('control_flow.hamming', 0).fillna(0),\n",
    "    levenshtein=RAW_DATA_df.get('control_flow.levenshtein', 0).fillna(0),\n",
    ")\n",
    "\n",
    "SUMMARY.sample(5)"
   ]
  },
  {
   "cell_type": "markdown",
   "metadata": {},
   "source": [
    "### Write summary to file"
   ]
  },
  {
   "cell_type": "code",
   "execution_count": null,
   "metadata": {},
   "outputs": [],
   "source": [
    "fname = EXPORT_PATH / f'{EXPORT_PREFIX}_summary_{EXPORT_TAG}.csv'\n",
    "SUMMARY.to_csv(fname)\n",
    "print(f'Summary data written on {fname}')"
   ]
  },
  {
   "cell_type": "markdown",
   "metadata": {},
   "source": [
    "## Data analysis\n",
    "\n",
    "Show results for each generator class and configuration, tables are summarized by log and case sizes. Timed out cases are highlighted in all tables."
   ]
  },
  {
   "cell_type": "code",
   "execution_count": null,
   "metadata": {},
   "outputs": [],
   "source": [
    "from IPython.display import display\n",
    "\n",
    "def show_table(key: str) -> None:\n",
    "    group_keys = ['model', 'generator', 'threshold', 'randomised', 'src']\n",
    "    for k, df in SUMMARY.groupby(by=group_keys, dropna=False, sort=True):\n",
    "        model, gen, threshold, randomised, src = k\n",
    "        print(f'Processing {gen}(model={model}, rnd={randomised}, threshold={threshold}) from {src}')\n",
    "        timeout_style = lambda _: pd.pivot_table(df, index='log_size', columns='case_size', values='timeout', aggfunc='max').map(lambda x: 'background-color: pink' if x == True else '')\n",
    "        pivot_df = pd.pivot_table(df, index='log_size', columns='case_size', values=key, aggfunc='max')\n",
    "        display(pivot_df.style\n",
    "                .set_caption(f'{gen}(model={model}, rnd={randomised}, threshold={threshold})<br>src:&nbsp;{src}')\n",
    "                .apply(timeout_style, axis=None))\n",
    "\n",
    "def select_data(model:str =None, gen:str =None, threshold: float=None, randomised:bool = None, src:str = None) -> pd.DataFrame:\n",
    "    query = []\n",
    "    if model is not None:\n",
    "        query.append(f'model == \"{model}\"')\n",
    "    if gen is not None:\n",
    "        query.append(f'generator == \"{gen}\"')\n",
    "    if threshold is not None:\n",
    "        query.append(f'threshold == {threshold}')\n",
    "    if randomised is not None:\n",
    "        query.append(f'randomised == {randomised}')\n",
    "    if src is not None:\n",
    "        query.append(f'src == \"{src}\"')\n",
    "    if len(query) > 0:\n",
    "        return SUMMARY.query(' & '.join(query))\n",
    "    else:\n",
    "        return SUMMARY\n"
   ]
  },
  {
   "cell_type": "markdown",
   "metadata": {},
   "source": [
    "### Coverage"
   ]
  },
  {
   "cell_type": "code",
   "execution_count": null,
   "metadata": {},
   "outputs": [],
   "source": [
    "show_table('coverage')"
   ]
  },
  {
   "cell_type": "markdown",
   "metadata": {},
   "source": [
    "### Time"
   ]
  },
  {
   "cell_type": "code",
   "execution_count": null,
   "metadata": {},
   "outputs": [],
   "source": [
    "show_table('time')"
   ]
  },
  {
   "cell_type": "markdown",
   "metadata": {},
   "source": [
    "### Levenshtein distance"
   ]
  },
  {
   "cell_type": "code",
   "execution_count": null,
   "metadata": {},
   "outputs": [],
   "source": [
    "show_table('levenshtein')"
   ]
  },
  {
   "cell_type": "markdown",
   "metadata": {},
   "source": [
    "### Generated log size"
   ]
  },
  {
   "cell_type": "code",
   "execution_count": null,
   "metadata": {},
   "outputs": [],
   "source": [
    "show_table('generated')"
   ]
  },
  {
   "cell_type": "markdown",
   "metadata": {},
   "source": [
    "### Timed out"
   ]
  },
  {
   "cell_type": "code",
   "execution_count": null,
   "metadata": {},
   "outputs": [],
   "source": [
    "show_table('timeout')"
   ]
  },
  {
   "cell_type": "markdown",
   "metadata": {},
   "source": [
    "### Experiments id"
   ]
  },
  {
   "cell_type": "code",
   "execution_count": null,
   "metadata": {},
   "outputs": [],
   "source": [
    "show_table('id')"
   ]
  }
 ],
 "metadata": {
  "kernelspec": {
   "display_name": "default",
   "language": "python",
   "name": "python3"
  },
  "language_info": {
   "codemirror_mode": {
    "name": "ipython",
    "version": 3
   },
   "file_extension": ".py",
   "mimetype": "text/x-python",
   "name": "python",
   "nbconvert_exporter": "python",
   "pygments_lexer": "ipython3",
   "version": "3.13.5"
  }
 },
 "nbformat": 4,
 "nbformat_minor": 4
}
