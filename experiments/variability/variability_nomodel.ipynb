{
 "cells": [
  {
   "cell_type": "markdown",
   "metadata": {},
   "source": [
    "# variability based on randomization: empty model\n",
    "\n",
    "Testing model influence on variability using unconstrained (empty) models"
   ]
  },
  {
   "cell_type": "code",
   "execution_count": 1,
   "metadata": {},
   "outputs": [],
   "source": [
    "from exptools import *\n",
    "\n",
    "from datetime import datetime, timezone\n",
    "from pathlib import Path\n",
    "from pprint import pprint\n",
    "import subprocess\n"
   ]
  },
  {
   "cell_type": "markdown",
   "metadata": {},
   "source": [
    "Parameters for the experiments"
   ]
  },
  {
   "cell_type": "code",
   "execution_count": null,
   "metadata": {
    "tags": [
     "parameters"
    ]
   },
   "outputs": [],
   "source": [
    "MAX_TRACES = [100, 1000, 10000]\n",
    "MAX_EVENTS = [20, 30, 40, 50, 60, 70]\n",
    "NOISE = [0]\n",
    "THRESHOLDS = [.3, .6]\n",
    "BATCHES = [5, 10]\n",
    "ACTIVITIES = [2, 4, 8, 12]\n",
    "\n",
    "SEED = b'\\x81\\x97u+'\n",
    "DEBUG = False\n",
    "\n",
    "MODEL_NAME = 'empty_model'\n",
    "\n",
    "EXPORT_PREFIX = 'variability_empty'\n",
    "EXPORT_TAG = None\n",
    "\n",
    "OUTPUT_DIR = 'output'\n"
   ]
  },
  {
   "cell_type": "code",
   "execution_count": null,
   "metadata": {},
   "outputs": [],
   "source": [
    "MODEL_PATH = Path(f\"{MODEL_NAME}.decl\")\n",
    "EXPORT_TAG = EXPORT_TAG if EXPORT_TAG is not None else datetime.now(tz=timezone.utc).strftime(r'%Y-%m-%dT%H%M%SZ')\n",
    "\n",
    "EXPORT_PATH = Path(OUTPUT_DIR, EXPORT_PREFIX + '_' + EXPORT_TAG)\n",
    "EXPORT_PATH.mkdir(parents=True, exist_ok=False)\n",
    "\n",
    "print(f'Results written on directory <{EXPORT_PATH.as_posix()}>')\n",
    "try:\n",
    "    print('Git describe: ' + subprocess.check_output(['git', 'describe', '--dirty'], text=True).strip())\n",
    "except subprocess.CalledProcessError as e:\n",
    "    print(f'Git info not available: {e.stderr}')"
   ]
  },
  {
   "cell_type": "code",
   "execution_count": 4,
   "metadata": {},
   "outputs": [],
   "source": [
    "from Declare4Py.ProcessMiningTasks.LogGenerator.PositionalBased.PositionalBasedLogGeneratorNG import PBLogGeneratorBaseline, PBLogGeneratorRandom, PBLogGeneratorHamming, PBLogGeneratorLevenshtein, PBLogGeneratorOrig, PBLogGeneratorBatch\n",
    "from Declare4Py.ProcessMiningTasks.LogGenerator.PositionalBased.PositionalBasedModel import PositionalBasedModel\n"
   ]
  },
  {
   "cell_type": "markdown",
   "metadata": {},
   "source": [
    "Define the set of experiments to run"
   ]
  },
  {
   "cell_type": "code",
   "execution_count": null,
   "metadata": {},
   "outputs": [],
   "source": [
    "EXPERIMENTS: list[dict] = []\n",
    "\n",
    "MODELS: list[tuple[str, str]] = [(f'empty_{n:02d}_model', f'activity {\", \".join(f'activity_{i:02d}' for i in range(n))}\\n') for n in ACTIVITIES]\n",
    "\n",
    "for (model_name, model), traces, events, noise in itertools.product(MODELS, MAX_TRACES, MAX_EVENTS, NOISE):\n",
    "    params = {\n",
    "        'model': model_name,\n",
    "        'traces': traces,\n",
    "        'events': events,\n",
    "        'noise': noise\n",
    "    }\n",
    "    exp_args = {\n",
    "        'init': {\n",
    "            'total_traces': traces,\n",
    "            'min_event': events,\n",
    "            'max_event': events,\n",
    "            'process_model': model,\n",
    "            'log': None,\n",
    "            'verbose': DEBUG,\n",
    "            'seed': SEED},\n",
    "        'run': {\n",
    "            'equal_rule_split': True,\n",
    "            'high_variability': False,\n",
    "            'generate_negatives_traces': False,\n",
    "            'positive_noise_percentage': noise,\n",
    "            'negative_noise_percentage': noise,\n",
    "            'append_results': False}}\n",
    "    exp_id = f'_{model_name}_{traces:04}_{events:03}_{noise:02}'\n",
    "\n",
    "    EXPERIMENTS.append(dict(\n",
    "        id_='old' + exp_id,\n",
    "        class_=PBLogGeneratorOrig,\n",
    "        args=exp_args,\n",
    "        model=model,\n",
    "        parameters=params,\n",
    "        description='Rewritten original code'\n",
    "    ))\n",
    "    EXPERIMENTS.append(dict(\n",
    "        id_='baseline' + exp_id,\n",
    "        class_=PBLogGeneratorBaseline,\n",
    "        args=exp_args,\n",
    "        model=model,\n",
    "        parameters=params,\n",
    "        description='No attempt to introduce variability in the generated logs'\n",
    "    ))\n",
    "\n",
    "for (model_name, model), traces, events, noise, batches in itertools.product(MODELS, MAX_TRACES, MAX_EVENTS, NOISE, BATCHES):\n",
    "    params = {\n",
    "        'model': model_name,\n",
    "        'traces': traces,\n",
    "        'events': events,\n",
    "        'noise': noise,\n",
    "        'batches': batches\n",
    "    }\n",
    "    exp_args = {\n",
    "        'init': {\n",
    "            'total_traces': traces,\n",
    "            'min_event': events,\n",
    "            'max_event': events,\n",
    "            'process_model': model,\n",
    "            'log': None,\n",
    "            'verbose': DEBUG,\n",
    "            'seed': SEED,\n",
    "            'batches': batches},\n",
    "        'run': {\n",
    "            'equal_rule_split': True,\n",
    "            'high_variability': False,\n",
    "            'generate_negatives_traces': False,\n",
    "            'positive_noise_percentage': noise,\n",
    "            'negative_noise_percentage': noise,\n",
    "            'append_results': False}}\n",
    "    exp_id = f'_{model_name}_{traces:04}_{events:03}_{noise:02}_{batches:02}'\n",
    "    EXPERIMENTS.append(dict(\n",
    "        id_='batch' + exp_id,\n",
    "        class_=PBLogGeneratorBatch,\n",
    "        args=exp_args,\n",
    "        model=model,\n",
    "        parameters=params,\n",
    "        description='Original generation method (old) but in batches instead of single shot'\n",
    "    ))\n",
    "\n",
    "with EXPORT_PATH.joinpath('experiments.json').open('w') as fp:\n",
    "    json.dump(EXPERIMENTS, fp, indent=2, default=lambda o: repr(o))\n",
    "\n",
    "pprint(EXPERIMENTS)"
   ]
  },
  {
   "cell_type": "code",
   "execution_count": null,
   "metadata": {},
   "outputs": [],
   "source": [
    "RESULTS: list[dict] = []\n",
    "\n",
    "for runner in (Experiment.new(**exp_d).runner() for exp_d in EXPERIMENTS):\n",
    "    header = '-' * 5 + f' {runner.id} [{runner.experiment.class_.__name__}] '\n",
    "    print(header + '-' * (72 - len(header)))\n",
    "    with log_to_file(EXPORT_PATH.joinpath(f'{runner.id}.log.json'), level=logging.DEBUG):\n",
    "        runner.run(seed=SEED)\n",
    "    runner.generator.get_results_as_dataframe().to_csv(EXPORT_PATH.joinpath(f'{runner.id}.csv'))\n",
    "    RESULTS.append(runner.stats(normalise=True, columns=[]))\n",
    "    with EXPORT_PATH.joinpath(f'{runner.id}_results.json').open('w') as fp:\n",
    "        json.dump(RESULTS[-1], fp)\n",
    "\n",
    "with EXPORT_PATH.joinpath('results.json').open('w') as fp:\n",
    "    json.dump(RESULTS, fp)\n",
    "\n",
    "df = pd.json_normalize(RESULTS)\n",
    "df.to_csv(EXPORT_PATH.joinpath('results.csv'))\n",
    "df"
   ]
  }
 ],
 "metadata": {
  "kernelspec": {
   "display_name": "default",
   "language": "python",
   "name": "python3"
  },
  "language_info": {
   "codemirror_mode": {
    "name": "ipython",
    "version": 3
   },
   "file_extension": ".py",
   "mimetype": "text/x-python",
   "name": "python",
   "nbconvert_exporter": "python",
   "pygments_lexer": "ipython3",
   "version": "3.12.8"
  }
 },
 "nbformat": 4,
 "nbformat_minor": 2
}
