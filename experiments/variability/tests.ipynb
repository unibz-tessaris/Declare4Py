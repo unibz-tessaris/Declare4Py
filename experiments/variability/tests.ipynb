{
 "cells": [
  {
   "cell_type": "markdown",
   "metadata": {},
   "source": [
    "# Tests for experiments code"
   ]
  },
  {
   "cell_type": "code",
   "execution_count": null,
   "metadata": {},
   "outputs": [],
   "source": [
    "from exptools import *\n",
    "\n",
    "from datetime import datetime, timezone\n",
    "from pathlib import Path\n",
    "from pprint import pprint\n",
    "import subprocess\n",
    "\n",
    "import pandas as pd"
   ]
  },
  {
   "cell_type": "markdown",
   "metadata": {},
   "source": [
    "Parameters for the experiments"
   ]
  },
  {
   "cell_type": "code",
   "execution_count": null,
   "metadata": {
    "tags": [
     "parameters"
    ]
   },
   "outputs": [],
   "source": [
    "MAX_TRACES = [10]\n",
    "MAX_EVENTS = [20]\n",
    "NOISE = [0]\n",
    "THRESHOLDS = [.3]\n",
    "\n",
    "SEED = b'\\x81\\x97u+'\n",
    "DEBUG = True\n",
    "\n",
    "MODEL_NAME = 'variability_model'\n",
    "\n",
    "EXPORT_PREFIX = 'tests'\n",
    "EXPORT_TAG = None\n",
    "\n",
    "OUTPUT_DIR = 'output'\n"
   ]
  },
  {
   "cell_type": "code",
   "execution_count": null,
   "metadata": {},
   "outputs": [],
   "source": [
    "MODEL_PATH = Path(f\"{MODEL_NAME}.decl\")\n",
    "EXPORT_TAG = EXPORT_TAG if EXPORT_TAG is not None else datetime.now(tz=timezone.utc).strftime(r'%Y-%m-%dT%H%M%SZ')\n",
    "\n",
    "EXPORT_PATH = Path(OUTPUT_DIR, EXPORT_PREFIX + '_' + EXPORT_TAG)\n",
    "EXPORT_PATH.mkdir(parents=True, exist_ok=False)\n",
    "\n",
    "print(f'Results written on directory <{EXPORT_PATH.as_posix()}>')\n",
    "try:\n",
    "    print('Git describe: ' + subprocess.check_output(['git', 'describe', '--dirty'], text=True).strip())\n",
    "except subprocess.CalledProcessError as e:\n",
    "    print(f'Git info not available: {e.stderr}')"
   ]
  },
  {
   "cell_type": "code",
   "execution_count": null,
   "metadata": {},
   "outputs": [],
   "source": [
    "from Declare4Py.ProcessMiningTasks.LogGenerator.PositionalBased.PositionalBasedLogGeneratorNG import PBLogGeneratorHamming, PBLogGeneratorRandom, PBLogGeneratorOrig, PBLogGeneratorLevenshtein\n"
   ]
  },
  {
   "cell_type": "markdown",
   "metadata": {},
   "source": [
    "## Testing experiments definition"
   ]
  },
  {
   "cell_type": "code",
   "execution_count": null,
   "metadata": {},
   "outputs": [],
   "source": [
    "for id_, class_, model, traces, events, noise, seed in itertools.product(\n",
    "    ['random'],\n",
    "    [PBLogGeneratorRandom, 'Declare4Py.ProcessMiningTasks.LogGenerator.PositionalBased.PositionalBasedLogGeneratorNG.PBLogGeneratorRandom'],\n",
    "    [MODEL_PATH, PositionalBasedModel().parse_from_file(MODEL_PATH.as_posix()), MODEL_PATH.read_text()],\n",
    "    MAX_TRACES, MAX_EVENTS, NOISE, [SEED]\n",
    "):\n",
    "    params = {'traces': traces, 'events': events, 'seed': seed}\n",
    "    args = {'init': {\n",
    "                'total_traces': traces,\n",
    "                'min_event': events,\n",
    "                'max_event': events,\n",
    "                'process_model': None,\n",
    "                'log': None,\n",
    "                'verbose': DEBUG,\n",
    "                'seed': seed},\n",
    "            'run': {\n",
    "                'equal_rule_split': True,\n",
    "                'high_variability': False,\n",
    "                'generate_negatives_traces': False,\n",
    "                'positive_noise_percentage': noise,\n",
    "                'negative_noise_percentage': noise,\n",
    "                'append_results': False}}\n",
    "    desc = 'Random generation of models'\n",
    "    print('-' * 5 + f' {id_}, {class_}, {type(model).__name__}, {traces}, {events}, {noise}, {seed}')\n",
    "    pprint({\n",
    "        'id_': id_,\n",
    "        'class_': class_,\n",
    "        'model': model,\n",
    "        'parameters': params,\n",
    "        'args': args,\n",
    "        'description': desc\n",
    "    })\n",
    "    exp = Experiment.new(id_=id_, class_=class_, model=model, parameters=params, args=args, description=desc)\n",
    "    pprint(exp)\n",
    "    pprint(exp.runner())"
   ]
  },
  {
   "cell_type": "markdown",
   "metadata": {},
   "source": [
    "## Testing generators"
   ]
  },
  {
   "cell_type": "code",
   "execution_count": null,
   "metadata": {},
   "outputs": [],
   "source": [
    "for id_, class_, model, traces, events, noise, seed in [\n",
    "    ('random', PBLogGeneratorRandom, MODEL_PATH, 10, 20, 0, SEED),\n",
    "    ('orig', PBLogGeneratorOrig, MODEL_PATH, 10, 20, 0, SEED),\n",
    "]:\n",
    "    exp_def = {\n",
    "        'id_': id_,\n",
    "        'class_': class_,\n",
    "        'model': model,\n",
    "        'parameters': {'traces': traces, 'events': events, 'noise': noise, 'seed': seed},\n",
    "        'args': {'init': {\n",
    "                    'total_traces': traces,\n",
    "                    'min_event': events,\n",
    "                    'max_event': events,\n",
    "                    'verbose': DEBUG,\n",
    "                    'seed': seed},\n",
    "                'run': {'equal_rule_split': True,\n",
    "                        'high_variability': False,\n",
    "                        'generate_negatives_traces': False,\n",
    "                        'positive_noise_percentage': noise,\n",
    "                        'negative_noise_percentage': noise,\n",
    "                        'append_results': False}},\n",
    "        'description': 'Random generation of models'}\n",
    "    print('-' * 5 + f' {id_}, {class_}, {type(model).__name__}, {traces}, {events}, {noise}, {seed}')\n",
    "    runner = Experiment.new(**exp_def).runner()\n",
    "    with log_to_file(EXPORT_PATH.joinpath(f'{runner.id}.log.json'), level=logging.DEBUG):\n",
    "        %time runner.run(seed=seed)\n",
    "    pprint(runner.stats())\n"
   ]
  },
  {
   "cell_type": "code",
   "execution_count": null,
   "metadata": {},
   "outputs": [],
   "source": [
    "for id_, class_, model, traces, events, noise, seed, threshold, randomise in [\n",
    "    ('levenshtein', PBLogGeneratorLevenshtein, MODEL_PATH, 10, 20, 0, SEED, .3, False),\n",
    "    ('hamming', PBLogGeneratorHamming, MODEL_PATH, 10, 20, 0, SEED, .3, False),\n",
    "]:\n",
    "    exp_def = {\n",
    "        'id_': id_,\n",
    "        'class_': class_,\n",
    "        'model': model,\n",
    "        'parameters': {'traces': traces, 'events': events, 'noise': noise, 'seed': seed},\n",
    "        'args': {'init': {\n",
    "                    'total_traces': traces,\n",
    "                    'min_event': events,\n",
    "                    'max_event': events,\n",
    "                    'verbose': DEBUG,\n",
    "                    'seed': seed,\n",
    "                    'threshold': threshold,\n",
    "                    'randomise': randomise},\n",
    "                'run': {'equal_rule_split': True,\n",
    "                        'high_variability': False,\n",
    "                        'generate_negatives_traces': False,\n",
    "                        'positive_noise_percentage': noise,\n",
    "                        'negative_noise_percentage': noise,\n",
    "                        'append_results': False}},\n",
    "        'description': 'Random generation of models'}\n",
    "    print('-' * 5 + f' {id_}, {class_}, {type(model).__name__}, {traces}, {events}, {noise}, {seed}')\n",
    "    runner = Experiment.new(**exp_def).runner()\n",
    "    with log_to_file(EXPORT_PATH.joinpath(f'{runner.id}.log.json'), level=logging.DEBUG):\n",
    "        %time runner.run(seed=seed)\n",
    "    pprint(runner.stats())\n"
   ]
  },
  {
   "cell_type": "markdown",
   "metadata": {},
   "source": [
    "## Testing reproducibility"
   ]
  },
  {
   "cell_type": "code",
   "execution_count": null,
   "metadata": {},
   "outputs": [],
   "source": [
    "traces = 10\n",
    "events = 20\n",
    "noise = 0\n",
    "seed = SEED\n",
    "model = MODEL_PATH\n",
    "\n",
    "REPRODUCIBILITY_EXP = { exp['id_']: exp for exp in [\n",
    "    {\n",
    "        'id_':  'orig',\n",
    "        'class_': PositionalBasedLogGenerator,\n",
    "        'model': model,\n",
    "        'parameters': {'traces': traces, 'events': events, 'noise': noise, 'seed': seed},\n",
    "        'description': '',\n",
    "        'args': {\n",
    "            'init': {\n",
    "                'total_traces': traces,\n",
    "                'min_events': events,\n",
    "                'max_events': events,\n",
    "                'verbose': DEBUG},\n",
    "            'run': {\n",
    "                'equal_rule_split': True,\n",
    "                'high_variability': False,\n",
    "                'generate_negatives_traces': False,\n",
    "                'positive_noise_percentage': noise,\n",
    "                'negative_noise_percentage': noise,\n",
    "                'append_results': False,}}\n",
    "                },\n",
    "    {\n",
    "        'id_':  'redo',\n",
    "        'class_': PBLogGeneratorOrig,\n",
    "        'model': model,\n",
    "        'parameters': {'traces': traces, 'events': events, 'noise': noise, 'seed': seed},\n",
    "        'description': '',\n",
    "        'args': {\n",
    "            'init': {\n",
    "                'total_traces': traces,\n",
    "                'min_event': events,\n",
    "                'max_event': events,\n",
    "                'verbose': DEBUG,\n",
    "                'seed': seed},\n",
    "            'run': {\n",
    "                'equal_rule_split': True,\n",
    "                'high_variability': False,\n",
    "                'generate_negatives_traces': False,\n",
    "                'positive_noise_percentage': noise,\n",
    "                'negative_noise_percentage': noise,\n",
    "                'append_results': False,}}\n",
    "                },\n",
    "    {\n",
    "        'id_':  'random',\n",
    "        'class_': PBLogGeneratorRandom,\n",
    "        'model': model,\n",
    "        'parameters': {'traces': traces, 'events': events, 'noise': noise, 'seed': seed},\n",
    "        'description': '',\n",
    "        'args': {\n",
    "            'init': {\n",
    "                'total_traces': traces,\n",
    "                'min_event': events,\n",
    "                'max_event': events,\n",
    "                'log': None,\n",
    "                'verbose': True,\n",
    "                'seed': seed},\n",
    "            'run': {\n",
    "                'equal_rule_split': True,\n",
    "                'high_variability': False,\n",
    "                'generate_negatives_traces': False,\n",
    "                'positive_noise_percentage': noise,\n",
    "                'negative_noise_percentage': noise,\n",
    "                'append_results': False}}\n",
    "                },\n",
    "]\n",
    "}\n",
    "\n",
    "pprint(REPRODUCIBILITY_EXP)"
   ]
  },
  {
   "cell_type": "code",
   "execution_count": null,
   "metadata": {},
   "outputs": [],
   "source": [
    "with log_to_file(EXPORT_PATH.joinpath(f'{EXPORT_PREFIX}_reprod.log.json')):\n",
    "    for exp, seed in itertools.product((Experiment.new(**exp_def) for exp_def in REPRODUCIBILITY_EXP.values()), (None, SEED)):\n",
    "        header = '-' * 5 + f' checking reproducibility of {exp.id_} with seed={seed} '\n",
    "        print(header + '-' * (72 - len(header)))\n",
    "        diff = exp.check_reproducibility(seed=seed)\n",
    "        print(diff)\n"
   ]
  },
  {
   "cell_type": "markdown",
   "metadata": {},
   "source": [
    "### Compare results between different implementations"
   ]
  },
  {
   "cell_type": "code",
   "execution_count": null,
   "metadata": {},
   "outputs": [],
   "source": [
    "from IPython.display import display\n",
    "\n",
    "r1, r2 = tuple(Experiment.new(**REPRODUCIBILITY_EXP[i]).runner() for i in ('orig', 'redo'))\n",
    "with log_to_file(EXPORT_PATH.joinpath(f'{EXPORT_PREFIX}_diff.log.json')):\n",
    "    for r in (r1, r2):\n",
    "        print('-' * 5 + f' {r.id}')\n",
    "        %time r.run(seed=SEED)\n",
    "\n",
    "display(compare_results(r1.generator, r2.generator, only=['concept:name:order', 'concept:name']))\n",
    "display(pd.json_normalize([r.stats( normalise=True, columns=['resource']) for r in (r1, r2)]))"
   ]
  }
 ],
 "metadata": {
  "kernelspec": {
   "display_name": "default",
   "language": "python",
   "name": "python3"
  },
  "language_info": {
   "codemirror_mode": {
    "name": "ipython",
    "version": 3
   },
   "file_extension": ".py",
   "mimetype": "text/x-python",
   "name": "python",
   "nbconvert_exporter": "python",
   "pygments_lexer": "ipython3",
   "version": "3.13.5"
  }
 },
 "nbformat": 4,
 "nbformat_minor": 2
}
